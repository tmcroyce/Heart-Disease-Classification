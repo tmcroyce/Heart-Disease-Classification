{
 "cells": [
  {
   "cell_type": "code",
   "execution_count": 1,
   "metadata": {},
   "outputs": [],
   "source": [
    "# Load Packages\n",
    "import pandas as pd\n",
    "import numpy as np\n",
    "import matplotlib.pyplot as plt\n",
    "%matplotlib inline\n",
    "import matplotlib.ticker as mtick\n",
    "import sqlite3\n",
    "import seaborn as sns\n",
    "from imblearn.over_sampling import SMOTENC\n",
    "from sklearn.linear_model import LinearRegression\n",
    "from sklearn import tree, preprocessing\n",
    "from sklearn.model_selection import train_test_split\n",
    "from sklearn.metrics import accuracy_score, confusion_matrix, classification_report, plot_confusion_matrix, recall_score\n",
    "from sklearn.tree import DecisionTreeClassifier\n",
    "from sklearn.ensemble import BaggingClassifier, RandomForestClassifier, ExtraTreesClassifier\n",
    "from sklearn.preprocessing import OneHotEncoder, OrdinalEncoder, StandardScaler\n",
    "from sklearn.model_selection import GridSearchCV, RandomizedSearchCV\n",
    "from sklearn.neighbors import KNeighborsClassifier\n",
    "from sklearn.metrics import roc_curve, auc, f1_score, make_scorer, recall_score\n",
    "from sklearn.svm import SVC\n",
    "from sklearn.linear_model import LogisticRegression\n",
    "from matplotlib.offsetbox import OffsetImage, AnnotationBbox\n",
    "from matplotlib.pyplot import figure\n",
    "from bs4 import BeautifulSoup\n",
    "import time\n",
    "import requests     # to get images\n",
    "import shutil       # to save files locally\n",
    "import datetime\n",
    "from scipy.stats import norm\n",
    "import warnings\n",
    "warnings.filterwarnings('ignore')\n",
    "import xgboost\n",
    "from xgboost import XGBClassifier\n",
    "from imblearn import under_sampling, over_sampling\n",
    "from imblearn.over_sampling import SMOTE, ADASYN\n",
    "import random\n",
    "from random import randint\n",
    "from sklearn.datasets import *\n",
    "from IPython.display import Image, display_svg, SVG\n",
    "import os\n",
    "from sklearn.pipeline import Pipeline\n",
    "from dtreeviz.trees import *\n",
    "from sklearn.tree import plot_tree\n",
    "os.environ[\"PATH\"] += os.pathsep + \"C:\\\\Users\\\\tmcro\\\\anaconda3\\\\pkgs\\\\graphviz-2.38-hfd603c8_2\\\\Library\\\\bin\\\\graphviz\\\\\"\n",
    "from sklearn.model_selection import train_test_split\n",
    "from sklearn.compose import make_column_selector as selector\n",
    "from sklearn.preprocessing import OneHotEncoder, StandardScaler\n",
    "from imblearn.pipeline import Pipeline as imbpipeline # https://towardsdatascience.com/the-right-way-of-using-smote-with-cross-validation-92a8d09d00c7\n",
    "from imblearn.pipeline import make_pipeline as make_imb_pipeline\n",
    "from sklearn.compose import ColumnTransformer\n",
    "from sklearn.pipeline import make_pipeline\n",
    "from sklearn.pipeline import FeatureUnion\n"
   ]
  },
  {
   "cell_type": "code",
   "execution_count": 2,
   "metadata": {},
   "outputs": [],
   "source": [
    "import pandas as pd\n",
    "df = pd.read_csv('heart_2020_cleaned.csv')\n",
    "\n",
    "target_name = \"HeartDisease\"\n",
    "y = df[target_name]\n",
    "X = df.drop(columns=[target_name])"
   ]
  },
  {
   "cell_type": "code",
   "execution_count": 3,
   "metadata": {},
   "outputs": [],
   "source": [
    "# Scoring Metric\n",
    "def my_custom_score(y_true, y_pred):\n",
    "    cf = confusion_matrix(y_true, y_pred)\n",
    "    precision = cf[1,1] / sum(cf[:,1])\n",
    "    recall    = cf[1,1] / sum(cf[1,:])\n",
    "    f1_score  = 2*precision*recall / (precision + recall)\n",
    "    rwf_score = (1+(2**2)) * ((precision * recall) / (((2**2) * precision) + recall))\n",
    "    return rwf_score\n",
    "\n",
    "my_scorer = make_scorer(my_custom_score, greater_is_better= True)\n",
    "\n",
    "# Change class metric\n",
    "class_metric = my_scorer"
   ]
  },
  {
   "cell_type": "code",
   "execution_count": 4,
   "metadata": {},
   "outputs": [
    {
     "data": {
      "text/plain": [
       "BMI                 float64\n",
       "Smoking              object\n",
       "AlcoholDrinking      object\n",
       "Stroke               object\n",
       "PhysicalHealth      float64\n",
       "MentalHealth        float64\n",
       "DiffWalking          object\n",
       "Sex                  object\n",
       "AgeCategory          object\n",
       "Race                 object\n",
       "Diabetic             object\n",
       "PhysicalActivity     object\n",
       "GenHealth            object\n",
       "SleepTime           float64\n",
       "Asthma               object\n",
       "KidneyDisease        object\n",
       "SkinCancer           object\n",
       "dtype: object"
      ]
     },
     "execution_count": 4,
     "metadata": {},
     "output_type": "execute_result"
    }
   ],
   "source": [
    "X.dtypes"
   ]
  },
  {
   "cell_type": "code",
   "execution_count": 5,
   "metadata": {},
   "outputs": [],
   "source": [
    "numerical_columns_selector = selector(dtype_exclude=object)\n",
    "categorical_columns_selector = selector(dtype_include=object)\n",
    "\n",
    "numerical_columns = numerical_columns_selector(X)\n",
    "categorical_columns = categorical_columns_selector(X)"
   ]
  },
  {
   "cell_type": "code",
   "execution_count": 6,
   "metadata": {},
   "outputs": [
    {
     "data": {
      "text/plain": [
       "['Smoking',\n",
       " 'AlcoholDrinking',\n",
       " 'Stroke',\n",
       " 'DiffWalking',\n",
       " 'Sex',\n",
       " 'AgeCategory',\n",
       " 'Race',\n",
       " 'Diabetic',\n",
       " 'PhysicalActivity',\n",
       " 'GenHealth',\n",
       " 'Asthma',\n",
       " 'KidneyDisease',\n",
       " 'SkinCancer']"
      ]
     },
     "execution_count": 6,
     "metadata": {},
     "output_type": "execute_result"
    }
   ],
   "source": [
    "categorical_columns"
   ]
  },
  {
   "cell_type": "code",
   "execution_count": 7,
   "metadata": {},
   "outputs": [
    {
     "data": {
      "text/plain": [
       "['BMI', 'PhysicalHealth', 'MentalHealth', 'SleepTime']"
      ]
     },
     "execution_count": 7,
     "metadata": {},
     "output_type": "execute_result"
    }
   ],
   "source": [
    "numerical_columns"
   ]
  },
  {
   "cell_type": "code",
   "execution_count": 8,
   "metadata": {},
   "outputs": [],
   "source": [
    "X_train, X_test, y_train, y_test = train_test_split(X, y, random_state=42)"
   ]
  },
  {
   "cell_type": "code",
   "execution_count": 9,
   "metadata": {},
   "outputs": [],
   "source": [
    "catcols = [1,2,3,6,7,8,9,10,11,12,14,15,16]"
   ]
  },
  {
   "cell_type": "code",
   "execution_count": 10,
   "metadata": {},
   "outputs": [],
   "source": [
    "# To get the column names from onehotencoder\n",
    "ohe = OneHotEncoder(sparse=False, handle_unknown='ignore')\n",
    "checker = ohe.fit_transform(X_train[categorical_columns])\n"
   ]
  },
  {
   "cell_type": "code",
   "execution_count": 11,
   "metadata": {},
   "outputs": [],
   "source": [
    "feature_names_categorical = ohe.get_feature_names(categorical_columns)"
   ]
  },
  {
   "cell_type": "code",
   "execution_count": 12,
   "metadata": {},
   "outputs": [
    {
     "data": {
      "text/plain": [
       "array(['Smoking_No', 'Smoking_Yes', 'AlcoholDrinking_No',\n",
       "       'AlcoholDrinking_Yes', 'Stroke_No', 'Stroke_Yes', 'DiffWalking_No',\n",
       "       'DiffWalking_Yes', 'Sex_Female', 'Sex_Male', 'AgeCategory_18-24',\n",
       "       'AgeCategory_25-29', 'AgeCategory_30-34', 'AgeCategory_35-39',\n",
       "       'AgeCategory_40-44', 'AgeCategory_45-49', 'AgeCategory_50-54',\n",
       "       'AgeCategory_55-59', 'AgeCategory_60-64', 'AgeCategory_65-69',\n",
       "       'AgeCategory_70-74', 'AgeCategory_75-79',\n",
       "       'AgeCategory_80 or older', 'Race_American Indian/Alaskan Native',\n",
       "       'Race_Asian', 'Race_Black', 'Race_Hispanic', 'Race_Other',\n",
       "       'Race_White', 'Diabetic_No', 'Diabetic_No, borderline diabetes',\n",
       "       'Diabetic_Yes', 'Diabetic_Yes (during pregnancy)',\n",
       "       'PhysicalActivity_No', 'PhysicalActivity_Yes',\n",
       "       'GenHealth_Excellent', 'GenHealth_Fair', 'GenHealth_Good',\n",
       "       'GenHealth_Poor', 'GenHealth_Very good', 'Asthma_No', 'Asthma_Yes',\n",
       "       'KidneyDisease_No', 'KidneyDisease_Yes', 'SkinCancer_No',\n",
       "       'SkinCancer_Yes'], dtype=object)"
      ]
     },
     "execution_count": 12,
     "metadata": {},
     "output_type": "execute_result"
    }
   ],
   "source": [
    "feature_names_categorical"
   ]
  },
  {
   "cell_type": "markdown",
   "metadata": {},
   "source": [
    "### SMOTENC"
   ]
  },
  {
   "cell_type": "code",
   "execution_count": 13,
   "metadata": {},
   "outputs": [],
   "source": [
    "Smote_NC = SMOTENC(categorical_features= catcols, random_state=42)"
   ]
  },
  {
   "cell_type": "code",
   "execution_count": 14,
   "metadata": {},
   "outputs": [
    {
     "name": "stdout",
     "output_type": "stream",
     "text": [
      "No     219418\n",
      "Yes     20428\n",
      "Name: HeartDisease, dtype: int64\n",
      "\n",
      "\n",
      "No     219418\n",
      "Yes    219418\n",
      "Name: HeartDisease, dtype: int64\n"
     ]
    }
   ],
   "source": [
    "print(y_train.value_counts())\n",
    "# Fit SMOTE to training data\n",
    "X_train_resampled, y_train_resampled = Smote_NC.fit_resample(X_train, y_train)\n",
    "# Preview synthetic sample class distribution\n",
    "print('\\n')\n",
    "print(pd.Series(y_train_resampled).value_counts())"
   ]
  },
  {
   "cell_type": "code",
   "execution_count": 15,
   "metadata": {},
   "outputs": [],
   "source": [
    "X_train = X_train_resampled\n",
    "y_train = y_train_resampled"
   ]
  },
  {
   "cell_type": "code",
   "execution_count": 16,
   "metadata": {},
   "outputs": [],
   "source": [
    "# Identify Processors\n",
    "categorical_preprocessor = OneHotEncoder(handle_unknown=\"ignore\")\n",
    "numerical_preprocessor = StandardScaler()\n",
    "\n",
    "preprocessor = ColumnTransformer([('one-hot-encoder', categorical_preprocessor, categorical_columns),\n",
    "    ('standard_scaler', numerical_preprocessor, numerical_columns)])\n",
    "\n",
    "smoter = SMOTENC(categorical_features= categorical_columns, random_state= 0)\n",
    "classifier = LogisticRegression(max_iter=500)"
   ]
  },
  {
   "cell_type": "markdown",
   "metadata": {},
   "source": [
    "### Code Additions"
   ]
  },
  {
   "cell_type": "code",
   "execution_count": 17,
   "metadata": {},
   "outputs": [],
   "source": [
    "# SOURCE: The origin of this confusion matrix code was found on medium, '\n",
    "# from https://medium.com/@dtuk81/confusion-matrix-visualization-fc31e3f30fea\n",
    "def make_confusion_matrix(cf,\n",
    "                          group_names=None,\n",
    "                          categories='auto',\n",
    "                          count=True,\n",
    "                          percent=True,\n",
    "                          cbar=True,\n",
    "                          xyticks=True,\n",
    "                          xyplotlabels=True,\n",
    "                          sum_stats=True,\n",
    "                          figsize=None,\n",
    "                          cmap='Blues',\n",
    "                          title=None):\n",
    "\n",
    "    # CODE TO GENERATE SUMMARY STATISTICS & TEXT FOR SUMMARY STATS\n",
    "    if sum_stats:\n",
    "        #Accuracy is sum of diagonal divided by total observations\n",
    "        accuracy  = np.trace(cf) / float(np.sum(cf))\n",
    "\n",
    "        #if it is a binary confusion matrix, show some more stats\n",
    "        if len(cf)==2:\n",
    "            #Metrics for Binary Confusion Matrices\n",
    "            a = cf[0,0]\n",
    "            b = cf[0,1]\n",
    "            c = cf[1,0]\n",
    "            d = cf[1,1]\n",
    "            tn = ((a / (a+b))*100).round(2).astype(str) + '%'\n",
    "            fp = ((b / (a+b))*100).round(2).astype(str) + '%'\n",
    "            fn = ((c / (c+d))*100).round(2).astype(str) + '%'\n",
    "            tp = ((d / (c+d))*100).round(2).astype(str) + '%'\n",
    "            precision = cf[1,1] / sum(cf[:,1])\n",
    "            recall    = cf[1,1] / sum(cf[1,:])\n",
    "            f1_score  = 2*precision*recall / (precision + recall)\n",
    "            rwf_score = (1+(2**2)) * ((precision * recall) / (((2**2) * precision) + recall))\n",
    "            stats_text = \"\\n\\nAccuracy={:0.3f}\\nPrecision={:0.3f}\\nRecall={:0.3f}\\nF1 Score={:0.3f}\\n\\nRecall-Weighted F Score={:0.3f}\".format(\n",
    "                accuracy,precision,recall,f1_score, rwf_score)\n",
    "        else:\n",
    "            stats_text = \"\\n\\nAccuracy={:0.3f}\".format(accuracy)\n",
    "    else:\n",
    "        stats_text = \"\"\n",
    "\n",
    "    # CODE TO GENERATE TEXT INSIDE EACH SQUARE\n",
    "    blanks = ['' for i in range(cf.size)]\n",
    "\n",
    "    if group_names and len(group_names)==cf.size:\n",
    "        group_labels = [\"{}\\n\".format(value) for value in group_names]\n",
    "    else:\n",
    "        group_labels = blanks\n",
    "\n",
    "    if count:\n",
    "        group_counts = [\"{0:0.0f}\\n\".format(value) for value in cf.flatten()]\n",
    "    else:\n",
    "        group_counts = blanks\n",
    "\n",
    "    if percent:\n",
    "        group_percentages =  [tn,fp,fn,tp]\n",
    "        # old = group_percentages = [\"{0:.2%}\".format(value) for value in cf.flatten()/np.sum(cf)]\n",
    "    else:\n",
    "        group_percentages = blanks\n",
    "\n",
    "    box_labels = [f\"{v1}{v2}{v3}\".strip() for v1, v2, v3 in zip(group_labels,group_counts,group_percentages)]\n",
    "    box_labels = np.asarray(box_labels).reshape(cf.shape[0],cf.shape[1])\n",
    "\n",
    "    # SET FIGURE PARAMETERS ACCORDING TO OTHER ARGUMENTS\n",
    "    if figsize==None:\n",
    "        #Get default figure size if not set\n",
    "        figsize = plt.rcParams.get('figure.figsize')\n",
    "\n",
    "    if xyticks==False:\n",
    "        #Do not show categories if xyticks is False\n",
    "        categories=False\n",
    "\n",
    "\n",
    "    # MAKE THE HEATMAP VISUALIZATION\n",
    "    plt.figure(figsize=figsize)\n",
    "    sns.heatmap(cf,annot=box_labels,fmt=\"\",cmap=cmap,cbar=cbar,xticklabels=categories,yticklabels=categories)\n",
    "\n",
    "    if xyplotlabels:\n",
    "        plt.ylabel('True label', weight = 'bold')\n",
    "        plt.xlabel('Predicted label' + stats_text, weight = 'bold')\n",
    "    else:\n",
    "        plt.xlabel(stats_text)\n",
    "    \n",
    "    if title:\n",
    "        plt.title(title,size = 20, weight = 'bold')"
   ]
  },
  {
   "cell_type": "code",
   "execution_count": 18,
   "metadata": {},
   "outputs": [
    {
     "data": {
      "text/html": [
       "<div>\n",
       "<style scoped>\n",
       "    .dataframe tbody tr th:only-of-type {\n",
       "        vertical-align: middle;\n",
       "    }\n",
       "\n",
       "    .dataframe tbody tr th {\n",
       "        vertical-align: top;\n",
       "    }\n",
       "\n",
       "    .dataframe thead th {\n",
       "        text-align: right;\n",
       "    }\n",
       "</style>\n",
       "<table border=\"1\" class=\"dataframe\">\n",
       "  <thead>\n",
       "    <tr style=\"text-align: right;\">\n",
       "      <th></th>\n",
       "      <th>Model</th>\n",
       "      <th>RWF Score</th>\n",
       "      <th>F1</th>\n",
       "      <th>Recall</th>\n",
       "      <th>Precision</th>\n",
       "      <th>Accuracy</th>\n",
       "    </tr>\n",
       "  </thead>\n",
       "  <tbody>\n",
       "  </tbody>\n",
       "</table>\n",
       "</div>"
      ],
      "text/plain": [
       "Empty DataFrame\n",
       "Columns: [Model, RWF Score, F1, Recall, Precision, Accuracy]\n",
       "Index: []"
      ]
     },
     "execution_count": 18,
     "metadata": {},
     "output_type": "execute_result"
    }
   ],
   "source": [
    "dfcols = ['Model', 'RWF Score', 'F1',  'Recall',  'Precision',  'Accuracy']\n",
    "model_summary = pd.DataFrame(columns=dfcols)\n",
    "model_summary"
   ]
  },
  {
   "cell_type": "code",
   "execution_count": 19,
   "metadata": {},
   "outputs": [],
   "source": [
    "# Define Result Saving Initial Function\n",
    "def save_result(cf, model_name):\n",
    "            global model_summary\n",
    "            accuracy  = np.trace(cf) / float(np.sum(cf))\n",
    "            precision = cf[1,1] / sum(cf[:,1])\n",
    "            recall    = cf[1,1] / sum(cf[1,:])\n",
    "            f1_score  = 2*precision*recall / (precision + recall)\n",
    "            rwf_score = (1+(2**2)) * ((precision * recall) / (((2**2) * precision) + recall))\n",
    "            row = [(model_name, rwf_score, f1_score, recall, precision, accuracy)]\n",
    "            res = pd.DataFrame(columns = dfcols, data = row)\n",
    "            yeep = [model_summary, res]\n",
    "            model_summary = pd.concat(yeep)\n",
    "            model_summary = model_summary.sort_values('RWF Score', ascending = False)\n",
    "            model_summary = model_summary.drop_duplicates()\n",
    "            return model_summary.round(3)"
   ]
  },
  {
   "cell_type": "code",
   "execution_count": 20,
   "metadata": {},
   "outputs": [],
   "source": [
    "def run_model(model, model_name):\n",
    "    model.fit(X_train, y_train)\n",
    "    model_prediction = model.predict(X_test)\n",
    "    cf_matrix = confusion_matrix(y_test, model_prediction)\n",
    "    save_result(cf_matrix, model_name)\n",
    "    cf = make_confusion_matrix(cf_matrix)\n",
    "    return model_summary"
   ]
  },
  {
   "cell_type": "markdown",
   "metadata": {},
   "source": [
    "### Models to Run "
   ]
  },
  {
   "cell_type": "code",
   "execution_count": 25,
   "metadata": {},
   "outputs": [],
   "source": [
    "# Initial Models\n",
    "init_decision_tree = make_pipeline(preprocessor, DecisionTreeClassifier(random_state=0, max_depth=3))\n",
    "log_reg = make_pipeline(preprocessor, LogisticRegression(random_state=0))\n",
    "decisionTree = make_pipeline(preprocessor, DecisionTreeClassifier(max_depth=5, random_state=0))\n",
    "random_forest = make_pipeline(preprocessor, RandomForestClassifier(n_estimators=50, random_state=0))\n",
    "baggedTrees = make_pipeline(preprocessor, BaggingClassifier(DecisionTreeClassifier(), n_estimators=50, random_state=0))\n",
    "extraTrees = make_pipeline(preprocessor, ExtraTreesClassifier(n_estimators=50, random_state=0))\n",
    "knn = make_pipeline(preprocessor, KNeighborsClassifier(n_neighbors=5))\n",
    "xgBoost = make_pipeline(preprocessor, XGBClassifier(n_estimators=50, random_state=0))\n"
   ]
  },
  {
   "cell_type": "code",
   "execution_count": 26,
   "metadata": {},
   "outputs": [
    {
     "data": {
      "text/html": [
       "<div>\n",
       "<style scoped>\n",
       "    .dataframe tbody tr th:only-of-type {\n",
       "        vertical-align: middle;\n",
       "    }\n",
       "\n",
       "    .dataframe tbody tr th {\n",
       "        vertical-align: top;\n",
       "    }\n",
       "\n",
       "    .dataframe thead th {\n",
       "        text-align: right;\n",
       "    }\n",
       "</style>\n",
       "<table border=\"1\" class=\"dataframe\">\n",
       "  <thead>\n",
       "    <tr style=\"text-align: right;\">\n",
       "      <th></th>\n",
       "      <th>Model</th>\n",
       "      <th>RWF Score</th>\n",
       "      <th>F1</th>\n",
       "      <th>Recall</th>\n",
       "      <th>Precision</th>\n",
       "      <th>Accuracy</th>\n",
       "    </tr>\n",
       "  </thead>\n",
       "  <tbody>\n",
       "    <tr>\n",
       "      <th>0</th>\n",
       "      <td>Logistic Regression</td>\n",
       "      <td>0.501597</td>\n",
       "      <td>0.337694</td>\n",
       "      <td>0.741541</td>\n",
       "      <td>0.218628</td>\n",
       "      <td>0.747326</td>\n",
       "    </tr>\n",
       "    <tr>\n",
       "      <th>0</th>\n",
       "      <td>Initial Decision Tree</td>\n",
       "      <td>0.412634</td>\n",
       "      <td>0.246150</td>\n",
       "      <td>0.751476</td>\n",
       "      <td>0.147180</td>\n",
       "      <td>0.600158</td>\n",
       "    </tr>\n",
       "  </tbody>\n",
       "</table>\n",
       "</div>"
      ],
      "text/plain": [
       "                   Model  RWF Score        F1    Recall  Precision  Accuracy\n",
       "0    Logistic Regression   0.501597  0.337694  0.741541   0.218628  0.747326\n",
       "0  Initial Decision Tree   0.412634  0.246150  0.751476   0.147180  0.600158"
      ]
     },
     "execution_count": 26,
     "metadata": {},
     "output_type": "execute_result"
    },
    {
     "data": {
      "image/png": "[encoded data removed]",
      "text/plain": [
       "<Figure size 432x288 with 2 Axes>"
      ]
     },
     "metadata": {
      "needs_background": "light"
     },
     "output_type": "display_data"
    }
   ],
   "source": [
    "run_model(init_decision_tree, 'Initial Decision Tree')"
   ]
  },
  {
   "cell_type": "code",
   "execution_count": 27,
   "metadata": {},
   "outputs": [
    {
     "data": {
      "text/html": [
       "<div>\n",
       "<style scoped>\n",
       "    .dataframe tbody tr th:only-of-type {\n",
       "        vertical-align: middle;\n",
       "    }\n",
       "\n",
       "    .dataframe tbody tr th {\n",
       "        vertical-align: top;\n",
       "    }\n",
       "\n",
       "    .dataframe thead th {\n",
       "        text-align: right;\n",
       "    }\n",
       "</style>\n",
       "<table border=\"1\" class=\"dataframe\">\n",
       "  <thead>\n",
       "    <tr style=\"text-align: right;\">\n",
       "      <th></th>\n",
       "      <th>Model</th>\n",
       "      <th>RWF Score</th>\n",
       "      <th>F1</th>\n",
       "      <th>Recall</th>\n",
       "      <th>Precision</th>\n",
       "      <th>Accuracy</th>\n",
       "    </tr>\n",
       "  </thead>\n",
       "  <tbody>\n",
       "    <tr>\n",
       "      <th>0</th>\n",
       "      <td>Logistic Regression</td>\n",
       "      <td>0.501597</td>\n",
       "      <td>0.337694</td>\n",
       "      <td>0.741541</td>\n",
       "      <td>0.218628</td>\n",
       "      <td>0.747326</td>\n",
       "    </tr>\n",
       "    <tr>\n",
       "      <th>0</th>\n",
       "      <td>Initial Decision Tree</td>\n",
       "      <td>0.412634</td>\n",
       "      <td>0.246150</td>\n",
       "      <td>0.751476</td>\n",
       "      <td>0.147180</td>\n",
       "      <td>0.600158</td>\n",
       "    </tr>\n",
       "  </tbody>\n",
       "</table>\n",
       "</div>"
      ],
      "text/plain": [
       "                   Model  RWF Score        F1    Recall  Precision  Accuracy\n",
       "0    Logistic Regression   0.501597  0.337694  0.741541   0.218628  0.747326\n",
       "0  Initial Decision Tree   0.412634  0.246150  0.751476   0.147180  0.600158"
      ]
     },
     "execution_count": 27,
     "metadata": {},
     "output_type": "execute_result"
    },
    {
     "data": {
      "image/png": "[encoded data removed]",
      "text/plain": [
       "<Figure size 432x288 with 2 Axes>"
      ]
     },
     "metadata": {
      "needs_background": "light"
     },
     "output_type": "display_data"
    }
   ],
   "source": [
    "run_model(log_reg, 'Logistic Regression')"
   ]
  },
  {
   "cell_type": "code",
   "execution_count": 28,
   "metadata": {},
   "outputs": [
    {
     "data": {
      "text/html": [
       "<div>\n",
       "<style scoped>\n",
       "    .dataframe tbody tr th:only-of-type {\n",
       "        vertical-align: middle;\n",
       "    }\n",
       "\n",
       "    .dataframe tbody tr th {\n",
       "        vertical-align: top;\n",
       "    }\n",
       "\n",
       "    .dataframe thead th {\n",
       "        text-align: right;\n",
       "    }\n",
       "</style>\n",
       "<table border=\"1\" class=\"dataframe\">\n",
       "  <thead>\n",
       "    <tr style=\"text-align: right;\">\n",
       "      <th></th>\n",
       "      <th>Model</th>\n",
       "      <th>RWF Score</th>\n",
       "      <th>F1</th>\n",
       "      <th>Recall</th>\n",
       "      <th>Precision</th>\n",
       "      <th>Accuracy</th>\n",
       "    </tr>\n",
       "  </thead>\n",
       "  <tbody>\n",
       "    <tr>\n",
       "      <th>0</th>\n",
       "      <td>Logistic Regression</td>\n",
       "      <td>0.501597</td>\n",
       "      <td>0.337694</td>\n",
       "      <td>0.741541</td>\n",
       "      <td>0.218628</td>\n",
       "      <td>0.747326</td>\n",
       "    </tr>\n",
       "    <tr>\n",
       "      <th>0</th>\n",
       "      <td>Decision Tree</td>\n",
       "      <td>0.441529</td>\n",
       "      <td>0.276928</td>\n",
       "      <td>0.731317</td>\n",
       "      <td>0.170803</td>\n",
       "      <td>0.668251</td>\n",
       "    </tr>\n",
       "    <tr>\n",
       "      <th>0</th>\n",
       "      <td>Initial Decision Tree</td>\n",
       "      <td>0.412634</td>\n",
       "      <td>0.246150</td>\n",
       "      <td>0.751476</td>\n",
       "      <td>0.147180</td>\n",
       "      <td>0.600158</td>\n",
       "    </tr>\n",
       "  </tbody>\n",
       "</table>\n",
       "</div>"
      ],
      "text/plain": [
       "                   Model  RWF Score        F1    Recall  Precision  Accuracy\n",
       "0    Logistic Regression   0.501597  0.337694  0.741541   0.218628  0.747326\n",
       "0          Decision Tree   0.441529  0.276928  0.731317   0.170803  0.668251\n",
       "0  Initial Decision Tree   0.412634  0.246150  0.751476   0.147180  0.600158"
      ]
     },
     "execution_count": 28,
     "metadata": {},
     "output_type": "execute_result"
    },
    {
     "data": {
      "image/png": "[encoded data removed]",
      "text/plain": [
       "<Figure size 432x288 with 2 Axes>"
      ]
     },
     "metadata": {
      "needs_background": "light"
     },
     "output_type": "display_data"
    }
   ],
   "source": [
    "run_model(decisionTree, 'Decision Tree')"
   ]
  },
  {
   "cell_type": "code",
   "execution_count": 29,
   "metadata": {},
   "outputs": [
    {
     "data": {
      "text/html": [
       "<div>\n",
       "<style scoped>\n",
       "    .dataframe tbody tr th:only-of-type {\n",
       "        vertical-align: middle;\n",
       "    }\n",
       "\n",
       "    .dataframe tbody tr th {\n",
       "        vertical-align: top;\n",
       "    }\n",
       "\n",
       "    .dataframe thead th {\n",
       "        text-align: right;\n",
       "    }\n",
       "</style>\n",
       "<table border=\"1\" class=\"dataframe\">\n",
       "  <thead>\n",
       "    <tr style=\"text-align: right;\">\n",
       "      <th></th>\n",
       "      <th>Model</th>\n",
       "      <th>RWF Score</th>\n",
       "      <th>F1</th>\n",
       "      <th>Recall</th>\n",
       "      <th>Precision</th>\n",
       "      <th>Accuracy</th>\n",
       "    </tr>\n",
       "  </thead>\n",
       "  <tbody>\n",
       "    <tr>\n",
       "      <th>0</th>\n",
       "      <td>Logistic Regression</td>\n",
       "      <td>0.501597</td>\n",
       "      <td>0.337694</td>\n",
       "      <td>0.741541</td>\n",
       "      <td>0.218628</td>\n",
       "      <td>0.747326</td>\n",
       "    </tr>\n",
       "    <tr>\n",
       "      <th>0</th>\n",
       "      <td>Decision Tree</td>\n",
       "      <td>0.441529</td>\n",
       "      <td>0.276928</td>\n",
       "      <td>0.731317</td>\n",
       "      <td>0.170803</td>\n",
       "      <td>0.668251</td>\n",
       "    </tr>\n",
       "    <tr>\n",
       "      <th>0</th>\n",
       "      <td>Initial Decision Tree</td>\n",
       "      <td>0.412634</td>\n",
       "      <td>0.246150</td>\n",
       "      <td>0.751476</td>\n",
       "      <td>0.147180</td>\n",
       "      <td>0.600158</td>\n",
       "    </tr>\n",
       "    <tr>\n",
       "      <th>0</th>\n",
       "      <td>Random Forest</td>\n",
       "      <td>0.304572</td>\n",
       "      <td>0.288472</td>\n",
       "      <td>0.316343</td>\n",
       "      <td>0.265114</td>\n",
       "      <td>0.864439</td>\n",
       "    </tr>\n",
       "  </tbody>\n",
       "</table>\n",
       "</div>"
      ],
      "text/plain": [
       "                   Model  RWF Score        F1    Recall  Precision  Accuracy\n",
       "0    Logistic Regression   0.501597  0.337694  0.741541   0.218628  0.747326\n",
       "0          Decision Tree   0.441529  0.276928  0.731317   0.170803  0.668251\n",
       "0  Initial Decision Tree   0.412634  0.246150  0.751476   0.147180  0.600158\n",
       "0          Random Forest   0.304572  0.288472  0.316343   0.265114  0.864439"
      ]
     },
     "execution_count": 29,
     "metadata": {},
     "output_type": "execute_result"
    },
    {
     "data": {
      "image/png": "[encoded data removed]",
      "text/plain": [
       "<Figure size 432x288 with 2 Axes>"
      ]
     },
     "metadata": {
      "needs_background": "light"
     },
     "output_type": "display_data"
    }
   ],
   "source": [
    "run_model(random_forest, 'Random Forest')"
   ]
  },
  {
   "cell_type": "code",
   "execution_count": 30,
   "metadata": {},
   "outputs": [
    {
     "data": {
      "text/html": [
       "<div>\n",
       "<style scoped>\n",
       "    .dataframe tbody tr th:only-of-type {\n",
       "        vertical-align: middle;\n",
       "    }\n",
       "\n",
       "    .dataframe tbody tr th {\n",
       "        vertical-align: top;\n",
       "    }\n",
       "\n",
       "    .dataframe thead th {\n",
       "        text-align: right;\n",
       "    }\n",
       "</style>\n",
       "<table border=\"1\" class=\"dataframe\">\n",
       "  <thead>\n",
       "    <tr style=\"text-align: right;\">\n",
       "      <th></th>\n",
       "      <th>Model</th>\n",
       "      <th>RWF Score</th>\n",
       "      <th>F1</th>\n",
       "      <th>Recall</th>\n",
       "      <th>Precision</th>\n",
       "      <th>Accuracy</th>\n",
       "    </tr>\n",
       "  </thead>\n",
       "  <tbody>\n",
       "    <tr>\n",
       "      <th>0</th>\n",
       "      <td>Logistic Regression</td>\n",
       "      <td>0.501597</td>\n",
       "      <td>0.337694</td>\n",
       "      <td>0.741541</td>\n",
       "      <td>0.218628</td>\n",
       "      <td>0.747326</td>\n",
       "    </tr>\n",
       "    <tr>\n",
       "      <th>0</th>\n",
       "      <td>Decision Tree</td>\n",
       "      <td>0.441529</td>\n",
       "      <td>0.276928</td>\n",
       "      <td>0.731317</td>\n",
       "      <td>0.170803</td>\n",
       "      <td>0.668251</td>\n",
       "    </tr>\n",
       "    <tr>\n",
       "      <th>0</th>\n",
       "      <td>Initial Decision Tree</td>\n",
       "      <td>0.412634</td>\n",
       "      <td>0.246150</td>\n",
       "      <td>0.751476</td>\n",
       "      <td>0.147180</td>\n",
       "      <td>0.600158</td>\n",
       "    </tr>\n",
       "    <tr>\n",
       "      <th>0</th>\n",
       "      <td>Random Forest</td>\n",
       "      <td>0.304572</td>\n",
       "      <td>0.288472</td>\n",
       "      <td>0.316343</td>\n",
       "      <td>0.265114</td>\n",
       "      <td>0.864439</td>\n",
       "    </tr>\n",
       "    <tr>\n",
       "      <th>0</th>\n",
       "      <td>Bagged Trees</td>\n",
       "      <td>0.256132</td>\n",
       "      <td>0.252925</td>\n",
       "      <td>0.258315</td>\n",
       "      <td>0.247756</td>\n",
       "      <td>0.867440</td>\n",
       "    </tr>\n",
       "  </tbody>\n",
       "</table>\n",
       "</div>"
      ],
      "text/plain": [
       "                   Model  RWF Score        F1    Recall  Precision  Accuracy\n",
       "0    Logistic Regression   0.501597  0.337694  0.741541   0.218628  0.747326\n",
       "0          Decision Tree   0.441529  0.276928  0.731317   0.170803  0.668251\n",
       "0  Initial Decision Tree   0.412634  0.246150  0.751476   0.147180  0.600158\n",
       "0          Random Forest   0.304572  0.288472  0.316343   0.265114  0.864439\n",
       "0           Bagged Trees   0.256132  0.252925  0.258315   0.247756  0.867440"
      ]
     },
     "execution_count": 30,
     "metadata": {},
     "output_type": "execute_result"
    },
    {
     "data": {
      "image/png": "[encoded data removed]",
      "text/plain": [
       "<Figure size 432x288 with 2 Axes>"
      ]
     },
     "metadata": {
      "needs_background": "light"
     },
     "output_type": "display_data"
    }
   ],
   "source": [
    "run_model(baggedTrees, 'Bagged Trees')"
   ]
  },
  {
   "cell_type": "code",
   "execution_count": 31,
   "metadata": {},
   "outputs": [
    {
     "data": {
      "text/html": [
       "<div>\n",
       "<style scoped>\n",
       "    .dataframe tbody tr th:only-of-type {\n",
       "        vertical-align: middle;\n",
       "    }\n",
       "\n",
       "    .dataframe tbody tr th {\n",
       "        vertical-align: top;\n",
       "    }\n",
       "\n",
       "    .dataframe thead th {\n",
       "        text-align: right;\n",
       "    }\n",
       "</style>\n",
       "<table border=\"1\" class=\"dataframe\">\n",
       "  <thead>\n",
       "    <tr style=\"text-align: right;\">\n",
       "      <th></th>\n",
       "      <th>Model</th>\n",
       "      <th>RWF Score</th>\n",
       "      <th>F1</th>\n",
       "      <th>Recall</th>\n",
       "      <th>Precision</th>\n",
       "      <th>Accuracy</th>\n",
       "    </tr>\n",
       "  </thead>\n",
       "  <tbody>\n",
       "    <tr>\n",
       "      <th>0</th>\n",
       "      <td>Logistic Regression</td>\n",
       "      <td>0.501597</td>\n",
       "      <td>0.337694</td>\n",
       "      <td>0.741541</td>\n",
       "      <td>0.218628</td>\n",
       "      <td>0.747326</td>\n",
       "    </tr>\n",
       "    <tr>\n",
       "      <th>0</th>\n",
       "      <td>Decision Tree</td>\n",
       "      <td>0.441529</td>\n",
       "      <td>0.276928</td>\n",
       "      <td>0.731317</td>\n",
       "      <td>0.170803</td>\n",
       "      <td>0.668251</td>\n",
       "    </tr>\n",
       "    <tr>\n",
       "      <th>0</th>\n",
       "      <td>Initial Decision Tree</td>\n",
       "      <td>0.412634</td>\n",
       "      <td>0.246150</td>\n",
       "      <td>0.751476</td>\n",
       "      <td>0.147180</td>\n",
       "      <td>0.600158</td>\n",
       "    </tr>\n",
       "    <tr>\n",
       "      <th>0</th>\n",
       "      <td>Random Forest</td>\n",
       "      <td>0.304572</td>\n",
       "      <td>0.288472</td>\n",
       "      <td>0.316343</td>\n",
       "      <td>0.265114</td>\n",
       "      <td>0.864439</td>\n",
       "    </tr>\n",
       "    <tr>\n",
       "      <th>0</th>\n",
       "      <td>Extra Trees</td>\n",
       "      <td>0.300333</td>\n",
       "      <td>0.273155</td>\n",
       "      <td>0.321670</td>\n",
       "      <td>0.237357</td>\n",
       "      <td>0.851293</td>\n",
       "    </tr>\n",
       "    <tr>\n",
       "      <th>0</th>\n",
       "      <td>Bagged Trees</td>\n",
       "      <td>0.256132</td>\n",
       "      <td>0.252925</td>\n",
       "      <td>0.258315</td>\n",
       "      <td>0.247756</td>\n",
       "      <td>0.867440</td>\n",
       "    </tr>\n",
       "  </tbody>\n",
       "</table>\n",
       "</div>"
      ],
      "text/plain": [
       "                   Model  RWF Score        F1    Recall  Precision  Accuracy\n",
       "0    Logistic Regression   0.501597  0.337694  0.741541   0.218628  0.747326\n",
       "0          Decision Tree   0.441529  0.276928  0.731317   0.170803  0.668251\n",
       "0  Initial Decision Tree   0.412634  0.246150  0.751476   0.147180  0.600158\n",
       "0          Random Forest   0.304572  0.288472  0.316343   0.265114  0.864439\n",
       "0            Extra Trees   0.300333  0.273155  0.321670   0.237357  0.851293\n",
       "0           Bagged Trees   0.256132  0.252925  0.258315   0.247756  0.867440"
      ]
     },
     "execution_count": 31,
     "metadata": {},
     "output_type": "execute_result"
    },
    {
     "data": {
      "image/png": "[encoded data removed]",
      "text/plain": [
       "<Figure size 432x288 with 2 Axes>"
      ]
     },
     "metadata": {
      "needs_background": "light"
     },
     "output_type": "display_data"
    }
   ],
   "source": [
    "run_model(extraTrees, 'Extra Trees')"
   ]
  },
  {
   "cell_type": "code",
   "execution_count": 32,
   "metadata": {},
   "outputs": [
    {
     "data": {
      "text/html": [
       "<div>\n",
       "<style scoped>\n",
       "    .dataframe tbody tr th:only-of-type {\n",
       "        vertical-align: middle;\n",
       "    }\n",
       "\n",
       "    .dataframe tbody tr th {\n",
       "        vertical-align: top;\n",
       "    }\n",
       "\n",
       "    .dataframe thead th {\n",
       "        text-align: right;\n",
       "    }\n",
       "</style>\n",
       "<table border=\"1\" class=\"dataframe\">\n",
       "  <thead>\n",
       "    <tr style=\"text-align: right;\">\n",
       "      <th></th>\n",
       "      <th>Model</th>\n",
       "      <th>RWF Score</th>\n",
       "      <th>F1</th>\n",
       "      <th>Recall</th>\n",
       "      <th>Precision</th>\n",
       "      <th>Accuracy</th>\n",
       "    </tr>\n",
       "  </thead>\n",
       "  <tbody>\n",
       "    <tr>\n",
       "      <th>0</th>\n",
       "      <td>Logistic Regression</td>\n",
       "      <td>0.501597</td>\n",
       "      <td>0.337694</td>\n",
       "      <td>0.741541</td>\n",
       "      <td>0.218628</td>\n",
       "      <td>0.747326</td>\n",
       "    </tr>\n",
       "    <tr>\n",
       "      <th>0</th>\n",
       "      <td>Decision Tree</td>\n",
       "      <td>0.441529</td>\n",
       "      <td>0.276928</td>\n",
       "      <td>0.731317</td>\n",
       "      <td>0.170803</td>\n",
       "      <td>0.668251</td>\n",
       "    </tr>\n",
       "    <tr>\n",
       "      <th>0</th>\n",
       "      <td>Initial Decision Tree</td>\n",
       "      <td>0.412634</td>\n",
       "      <td>0.246150</td>\n",
       "      <td>0.751476</td>\n",
       "      <td>0.147180</td>\n",
       "      <td>0.600158</td>\n",
       "    </tr>\n",
       "    <tr>\n",
       "      <th>0</th>\n",
       "      <td>XGBoost</td>\n",
       "      <td>0.371405</td>\n",
       "      <td>0.343849</td>\n",
       "      <td>0.392369</td>\n",
       "      <td>0.306008</td>\n",
       "      <td>0.869917</td>\n",
       "    </tr>\n",
       "    <tr>\n",
       "      <th>0</th>\n",
       "      <td>Random Forest</td>\n",
       "      <td>0.304572</td>\n",
       "      <td>0.288472</td>\n",
       "      <td>0.316343</td>\n",
       "      <td>0.265114</td>\n",
       "      <td>0.864439</td>\n",
       "    </tr>\n",
       "    <tr>\n",
       "      <th>0</th>\n",
       "      <td>Extra Trees</td>\n",
       "      <td>0.300333</td>\n",
       "      <td>0.273155</td>\n",
       "      <td>0.321670</td>\n",
       "      <td>0.237357</td>\n",
       "      <td>0.851293</td>\n",
       "    </tr>\n",
       "    <tr>\n",
       "      <th>0</th>\n",
       "      <td>Bagged Trees</td>\n",
       "      <td>0.256132</td>\n",
       "      <td>0.252925</td>\n",
       "      <td>0.258315</td>\n",
       "      <td>0.247756</td>\n",
       "      <td>0.867440</td>\n",
       "    </tr>\n",
       "  </tbody>\n",
       "</table>\n",
       "</div>"
      ],
      "text/plain": [
       "                   Model  RWF Score        F1    Recall  Precision  Accuracy\n",
       "0    Logistic Regression   0.501597  0.337694  0.741541   0.218628  0.747326\n",
       "0          Decision Tree   0.441529  0.276928  0.731317   0.170803  0.668251\n",
       "0  Initial Decision Tree   0.412634  0.246150  0.751476   0.147180  0.600158\n",
       "0                XGBoost   0.371405  0.343849  0.392369   0.306008  0.869917\n",
       "0          Random Forest   0.304572  0.288472  0.316343   0.265114  0.864439\n",
       "0            Extra Trees   0.300333  0.273155  0.321670   0.237357  0.851293\n",
       "0           Bagged Trees   0.256132  0.252925  0.258315   0.247756  0.867440"
      ]
     },
     "execution_count": 32,
     "metadata": {},
     "output_type": "execute_result"
    },
    {
     "data": {
      "image/png": "[encoded data removed]",
      "text/plain": [
       "<Figure size 432x288 with 2 Axes>"
      ]
     },
     "metadata": {
      "needs_background": "light"
     },
     "output_type": "display_data"
    }
   ],
   "source": [
    "run_model(xgBoost, 'XGBoost')"
   ]
  },
  {
   "cell_type": "markdown",
   "metadata": {},
   "source": [
    "## Iterate the best\n",
    "\n"
   ]
  },
  {
   "cell_type": "code",
   "execution_count": 33,
   "metadata": {},
   "outputs": [
    {
     "data": {
      "text/plain": [
       "{'C': 1.0,\n",
       " 'class_weight': None,\n",
       " 'dual': False,\n",
       " 'fit_intercept': True,\n",
       " 'intercept_scaling': 1,\n",
       " 'l1_ratio': None,\n",
       " 'max_iter': 100,\n",
       " 'multi_class': 'auto',\n",
       " 'n_jobs': None,\n",
       " 'penalty': 'l2',\n",
       " 'random_state': 0,\n",
       " 'solver': 'lbfgs',\n",
       " 'tol': 0.0001,\n",
       " 'verbose': 0,\n",
       " 'warm_start': False}"
      ]
     },
     "execution_count": 33,
     "metadata": {},
     "output_type": "execute_result"
    }
   ],
   "source": [
    "log_reg['logisticregression'].get_params()"
   ]
  },
  {
   "cell_type": "code",
   "execution_count": 34,
   "metadata": {},
   "outputs": [],
   "source": [
    "# Define Grid\n",
    "rf_grid = [{'logisticregression__C': [1, 2],\n",
    "        'logisticregression__penalty': ['l2', 'none'],\n",
    "        'logisticregression__solver': ['newton-cg', 'lbfgs','sag']}]"
   ]
  },
  {
   "cell_type": "code",
   "execution_count": 35,
   "metadata": {},
   "outputs": [],
   "source": [
    "logreg_gridsearch = GridSearchCV(estimator=log_reg, param_grid=rf_grid, scoring=class_metric, cv=3)"
   ]
  },
  {
   "cell_type": "code",
   "execution_count": 36,
   "metadata": {},
   "outputs": [
    {
     "data": {
      "text/plain": [
       "dict_keys(['memory', 'steps', 'verbose', 'columntransformer', 'logisticregression', 'columntransformer__n_jobs', 'columntransformer__remainder', 'columntransformer__sparse_threshold', 'columntransformer__transformer_weights', 'columntransformer__transformers', 'columntransformer__verbose', 'columntransformer__one-hot-encoder', 'columntransformer__standard_scaler', 'columntransformer__one-hot-encoder__categories', 'columntransformer__one-hot-encoder__drop', 'columntransformer__one-hot-encoder__dtype', 'columntransformer__one-hot-encoder__handle_unknown', 'columntransformer__one-hot-encoder__sparse', 'columntransformer__standard_scaler__copy', 'columntransformer__standard_scaler__with_mean', 'columntransformer__standard_scaler__with_std', 'logisticregression__C', 'logisticregression__class_weight', 'logisticregression__dual', 'logisticregression__fit_intercept', 'logisticregression__intercept_scaling', 'logisticregression__l1_ratio', 'logisticregression__max_iter', 'logisticregression__multi_class', 'logisticregression__n_jobs', 'logisticregression__penalty', 'logisticregression__random_state', 'logisticregression__solver', 'logisticregression__tol', 'logisticregression__verbose', 'logisticregression__warm_start'])"
      ]
     },
     "execution_count": 36,
     "metadata": {},
     "output_type": "execute_result"
    }
   ],
   "source": [
    "log_reg.get_params().keys()"
   ]
  },
  {
   "cell_type": "code",
   "execution_count": 37,
   "metadata": {},
   "outputs": [
    {
     "data": {
      "text/html": [
       "<div>\n",
       "<style scoped>\n",
       "    .dataframe tbody tr th:only-of-type {\n",
       "        vertical-align: middle;\n",
       "    }\n",
       "\n",
       "    .dataframe tbody tr th {\n",
       "        vertical-align: top;\n",
       "    }\n",
       "\n",
       "    .dataframe thead th {\n",
       "        text-align: right;\n",
       "    }\n",
       "</style>\n",
       "<table border=\"1\" class=\"dataframe\">\n",
       "  <thead>\n",
       "    <tr style=\"text-align: right;\">\n",
       "      <th></th>\n",
       "      <th>Model</th>\n",
       "      <th>RWF Score</th>\n",
       "      <th>F1</th>\n",
       "      <th>Recall</th>\n",
       "      <th>Precision</th>\n",
       "      <th>Accuracy</th>\n",
       "    </tr>\n",
       "  </thead>\n",
       "  <tbody>\n",
       "    <tr>\n",
       "      <th>0</th>\n",
       "      <td>Logistic Regression</td>\n",
       "      <td>0.501597</td>\n",
       "      <td>0.337694</td>\n",
       "      <td>0.741541</td>\n",
       "      <td>0.218628</td>\n",
       "      <td>0.747326</td>\n",
       "    </tr>\n",
       "    <tr>\n",
       "      <th>0</th>\n",
       "      <td>Logistic Regression with Grid Search</td>\n",
       "      <td>0.501412</td>\n",
       "      <td>0.337529</td>\n",
       "      <td>0.741397</td>\n",
       "      <td>0.218502</td>\n",
       "      <td>0.747189</td>\n",
       "    </tr>\n",
       "    <tr>\n",
       "      <th>0</th>\n",
       "      <td>Decision Tree</td>\n",
       "      <td>0.441529</td>\n",
       "      <td>0.276928</td>\n",
       "      <td>0.731317</td>\n",
       "      <td>0.170803</td>\n",
       "      <td>0.668251</td>\n",
       "    </tr>\n",
       "    <tr>\n",
       "      <th>0</th>\n",
       "      <td>Initial Decision Tree</td>\n",
       "      <td>0.412634</td>\n",
       "      <td>0.246150</td>\n",
       "      <td>0.751476</td>\n",
       "      <td>0.147180</td>\n",
       "      <td>0.600158</td>\n",
       "    </tr>\n",
       "    <tr>\n",
       "      <th>0</th>\n",
       "      <td>XGBoost</td>\n",
       "      <td>0.371405</td>\n",
       "      <td>0.343849</td>\n",
       "      <td>0.392369</td>\n",
       "      <td>0.306008</td>\n",
       "      <td>0.869917</td>\n",
       "    </tr>\n",
       "    <tr>\n",
       "      <th>0</th>\n",
       "      <td>Random Forest</td>\n",
       "      <td>0.304572</td>\n",
       "      <td>0.288472</td>\n",
       "      <td>0.316343</td>\n",
       "      <td>0.265114</td>\n",
       "      <td>0.864439</td>\n",
       "    </tr>\n",
       "    <tr>\n",
       "      <th>0</th>\n",
       "      <td>Extra Trees</td>\n",
       "      <td>0.300333</td>\n",
       "      <td>0.273155</td>\n",
       "      <td>0.321670</td>\n",
       "      <td>0.237357</td>\n",
       "      <td>0.851293</td>\n",
       "    </tr>\n",
       "    <tr>\n",
       "      <th>0</th>\n",
       "      <td>Bagged Trees</td>\n",
       "      <td>0.256132</td>\n",
       "      <td>0.252925</td>\n",
       "      <td>0.258315</td>\n",
       "      <td>0.247756</td>\n",
       "      <td>0.867440</td>\n",
       "    </tr>\n",
       "  </tbody>\n",
       "</table>\n",
       "</div>"
      ],
      "text/plain": [
       "                                  Model  RWF Score        F1    Recall  \\\n",
       "0                   Logistic Regression   0.501597  0.337694  0.741541   \n",
       "0  Logistic Regression with Grid Search   0.501412  0.337529  0.741397   \n",
       "0                         Decision Tree   0.441529  0.276928  0.731317   \n",
       "0                 Initial Decision Tree   0.412634  0.246150  0.751476   \n",
       "0                               XGBoost   0.371405  0.343849  0.392369   \n",
       "0                         Random Forest   0.304572  0.288472  0.316343   \n",
       "0                           Extra Trees   0.300333  0.273155  0.321670   \n",
       "0                          Bagged Trees   0.256132  0.252925  0.258315   \n",
       "\n",
       "   Precision  Accuracy  \n",
       "0   0.218628  0.747326  \n",
       "0   0.218502  0.747189  \n",
       "0   0.170803  0.668251  \n",
       "0   0.147180  0.600158  \n",
       "0   0.306008  0.869917  \n",
       "0   0.265114  0.864439  \n",
       "0   0.237357  0.851293  \n",
       "0   0.247756  0.867440  "
      ]
     },
     "execution_count": 37,
     "metadata": {},
     "output_type": "execute_result"
    },
    {
     "data": {
      "image/png": "[encoded data removed]",
      "text/plain": [
       "<Figure size 432x288 with 2 Axes>"
      ]
     },
     "metadata": {
      "needs_background": "light"
     },
     "output_type": "display_data"
    }
   ],
   "source": [
    "#logreg_gridsearch.fit(X_train, y_train)\n",
    "run_model(logreg_gridsearch, 'Logistic Regression with Grid Search')"
   ]
  },
  {
   "cell_type": "markdown",
   "metadata": {},
   "source": [
    "### Winner: Logistic Regression"
   ]
  },
  {
   "cell_type": "code",
   "execution_count": 38,
   "metadata": {},
   "outputs": [
    {
     "data": {
      "text/plain": [
       "{'columntransformer': ColumnTransformer(transformers=[('one-hot-encoder',\n",
       "                                  OneHotEncoder(handle_unknown='ignore'),\n",
       "                                  ['Smoking', 'AlcoholDrinking', 'Stroke',\n",
       "                                   'DiffWalking', 'Sex', 'AgeCategory', 'Race',\n",
       "                                   'Diabetic', 'PhysicalActivity', 'GenHealth',\n",
       "                                   'Asthma', 'KidneyDisease', 'SkinCancer']),\n",
       "                                 ('standard_scaler', StandardScaler(),\n",
       "                                  ['BMI', 'PhysicalHealth', 'MentalHealth',\n",
       "                                   'SleepTime'])]),\n",
       " 'logisticregression': LogisticRegression(random_state=0)}"
      ]
     },
     "execution_count": 38,
     "metadata": {},
     "output_type": "execute_result"
    }
   ],
   "source": [
    "log_reg.named_steps"
   ]
  },
  {
   "cell_type": "code",
   "execution_count": 39,
   "metadata": {},
   "outputs": [
    {
     "data": {
      "text/plain": [
       "50"
      ]
     },
     "execution_count": 39,
     "metadata": {},
     "output_type": "execute_result"
    }
   ],
   "source": [
    "coefs = log_reg['logisticregression'].coef_\n",
    "coefs = list(coefs[0])\n",
    "len(coefs)"
   ]
  },
  {
   "cell_type": "code",
   "execution_count": 40,
   "metadata": {},
   "outputs": [
    {
     "data": {
      "text/plain": [
       "['BMI', 'PhysicalHealth', 'MentalHealth', 'SleepTime']"
      ]
     },
     "execution_count": 40,
     "metadata": {},
     "output_type": "execute_result"
    }
   ],
   "source": [
    "numerical_columns"
   ]
  },
  {
   "cell_type": "code",
   "execution_count": 41,
   "metadata": {},
   "outputs": [],
   "source": [
    "cat_list= list(feature_names_categorical)"
   ]
  },
  {
   "cell_type": "code",
   "execution_count": 42,
   "metadata": {},
   "outputs": [],
   "source": [
    "all_cats = cat_list + numerical_columns"
   ]
  },
  {
   "cell_type": "code",
   "execution_count": 43,
   "metadata": {},
   "outputs": [
    {
     "data": {
      "text/plain": [
       "['Smoking_No',\n",
       " 'Smoking_Yes',\n",
       " 'AlcoholDrinking_No',\n",
       " 'AlcoholDrinking_Yes',\n",
       " 'Stroke_No',\n",
       " 'Stroke_Yes',\n",
       " 'DiffWalking_No',\n",
       " 'DiffWalking_Yes',\n",
       " 'Sex_Female',\n",
       " 'Sex_Male',\n",
       " 'AgeCategory_18-24',\n",
       " 'AgeCategory_25-29',\n",
       " 'AgeCategory_30-34',\n",
       " 'AgeCategory_35-39',\n",
       " 'AgeCategory_40-44',\n",
       " 'AgeCategory_45-49',\n",
       " 'AgeCategory_50-54',\n",
       " 'AgeCategory_55-59',\n",
       " 'AgeCategory_60-64',\n",
       " 'AgeCategory_65-69',\n",
       " 'AgeCategory_70-74',\n",
       " 'AgeCategory_75-79',\n",
       " 'AgeCategory_80 or older',\n",
       " 'Race_American Indian/Alaskan Native',\n",
       " 'Race_Asian',\n",
       " 'Race_Black',\n",
       " 'Race_Hispanic',\n",
       " 'Race_Other',\n",
       " 'Race_White',\n",
       " 'Diabetic_No',\n",
       " 'Diabetic_No, borderline diabetes',\n",
       " 'Diabetic_Yes',\n",
       " 'Diabetic_Yes (during pregnancy)',\n",
       " 'PhysicalActivity_No',\n",
       " 'PhysicalActivity_Yes',\n",
       " 'GenHealth_Excellent',\n",
       " 'GenHealth_Fair',\n",
       " 'GenHealth_Good',\n",
       " 'GenHealth_Poor',\n",
       " 'GenHealth_Very good',\n",
       " 'Asthma_No',\n",
       " 'Asthma_Yes',\n",
       " 'KidneyDisease_No',\n",
       " 'KidneyDisease_Yes',\n",
       " 'SkinCancer_No',\n",
       " 'SkinCancer_Yes',\n",
       " 'BMI',\n",
       " 'PhysicalHealth',\n",
       " 'MentalHealth',\n",
       " 'SleepTime']"
      ]
     },
     "execution_count": 43,
     "metadata": {},
     "output_type": "execute_result"
    }
   ],
   "source": [
    "all_cats"
   ]
  },
  {
   "cell_type": "code",
   "execution_count": 44,
   "metadata": {},
   "outputs": [
    {
     "data": {
      "text/plain": [
       "array([[-4.05333675e-01, -2.90920559e-02,  3.37922741e-01,\n",
       "        -7.72348472e-01, -6.18184131e-01,  1.83758400e-01,\n",
       "        -3.03145729e-01, -1.31280001e-01, -6.00230712e-01,\n",
       "         1.65804981e-01, -2.16451588e+00, -2.27540768e+00,\n",
       "        -2.01627123e+00, -1.44242048e+00, -8.19559992e-01,\n",
       "        -4.64338740e-01,  2.44673437e-01,  6.01561770e-01,\n",
       "         1.01634869e+00,  1.28097544e+00,  1.61177442e+00,\n",
       "         1.81754057e+00,  2.17521394e+00, -6.26414042e-01,\n",
       "        -7.51741889e-01,  6.32556488e-02,  3.01197732e-01,\n",
       "        -4.49489479e-01,  1.02876630e+00,  5.26667578e-01,\n",
       "        -4.80360117e-01,  1.00643036e+00, -1.48716355e+00,\n",
       "        -2.57080607e-01, -1.77345124e-01, -1.34099153e+00,\n",
       "         6.31534785e-01,  2.00928726e-03,  9.89670893e-01,\n",
       "        -7.16649164e-01, -2.70863747e-01, -1.63561984e-01,\n",
       "        -2.54662829e-01, -1.79762902e-01, -1.43987311e-01,\n",
       "        -2.90438420e-01,  9.58713097e-02, -1.40068493e-02,\n",
       "         9.92067232e-02, -6.18929764e-02]])"
      ]
     },
     "execution_count": 44,
     "metadata": {},
     "output_type": "execute_result"
    }
   ],
   "source": [
    "log_reg['logisticregression'].coef_"
   ]
  },
  {
   "cell_type": "code",
   "execution_count": 45,
   "metadata": {},
   "outputs": [
    {
     "data": {
      "text/html": [
       "<div>\n",
       "<style scoped>\n",
       "    .dataframe tbody tr th:only-of-type {\n",
       "        vertical-align: middle;\n",
       "    }\n",
       "\n",
       "    .dataframe tbody tr th {\n",
       "        vertical-align: top;\n",
       "    }\n",
       "\n",
       "    .dataframe thead th {\n",
       "        text-align: right;\n",
       "    }\n",
       "</style>\n",
       "<table border=\"1\" class=\"dataframe\">\n",
       "  <thead>\n",
       "    <tr style=\"text-align: right;\">\n",
       "      <th></th>\n",
       "      <th>0</th>\n",
       "    </tr>\n",
       "  </thead>\n",
       "  <tbody>\n",
       "    <tr>\n",
       "      <th>Smoking_No</th>\n",
       "      <td>-0.405334</td>\n",
       "    </tr>\n",
       "    <tr>\n",
       "      <th>Smoking_Yes</th>\n",
       "      <td>-0.029092</td>\n",
       "    </tr>\n",
       "    <tr>\n",
       "      <th>AlcoholDrinking_No</th>\n",
       "      <td>0.337923</td>\n",
       "    </tr>\n",
       "    <tr>\n",
       "      <th>AlcoholDrinking_Yes</th>\n",
       "      <td>-0.772348</td>\n",
       "    </tr>\n",
       "    <tr>\n",
       "      <th>Stroke_No</th>\n",
       "      <td>-0.618184</td>\n",
       "    </tr>\n",
       "    <tr>\n",
       "      <th>Stroke_Yes</th>\n",
       "      <td>0.183758</td>\n",
       "    </tr>\n",
       "    <tr>\n",
       "      <th>DiffWalking_No</th>\n",
       "      <td>-0.303146</td>\n",
       "    </tr>\n",
       "    <tr>\n",
       "      <th>DiffWalking_Yes</th>\n",
       "      <td>-0.131280</td>\n",
       "    </tr>\n",
       "    <tr>\n",
       "      <th>Sex_Female</th>\n",
       "      <td>-0.600231</td>\n",
       "    </tr>\n",
       "    <tr>\n",
       "      <th>Sex_Male</th>\n",
       "      <td>0.165805</td>\n",
       "    </tr>\n",
       "    <tr>\n",
       "      <th>AgeCategory_18-24</th>\n",
       "      <td>-2.164516</td>\n",
       "    </tr>\n",
       "    <tr>\n",
       "      <th>AgeCategory_25-29</th>\n",
       "      <td>-2.275408</td>\n",
       "    </tr>\n",
       "    <tr>\n",
       "      <th>AgeCategory_30-34</th>\n",
       "      <td>-2.016271</td>\n",
       "    </tr>\n",
       "    <tr>\n",
       "      <th>AgeCategory_35-39</th>\n",
       "      <td>-1.442420</td>\n",
       "    </tr>\n",
       "    <tr>\n",
       "      <th>AgeCategory_40-44</th>\n",
       "      <td>-0.819560</td>\n",
       "    </tr>\n",
       "    <tr>\n",
       "      <th>AgeCategory_45-49</th>\n",
       "      <td>-0.464339</td>\n",
       "    </tr>\n",
       "    <tr>\n",
       "      <th>AgeCategory_50-54</th>\n",
       "      <td>0.244673</td>\n",
       "    </tr>\n",
       "    <tr>\n",
       "      <th>AgeCategory_55-59</th>\n",
       "      <td>0.601562</td>\n",
       "    </tr>\n",
       "    <tr>\n",
       "      <th>AgeCategory_60-64</th>\n",
       "      <td>1.016349</td>\n",
       "    </tr>\n",
       "    <tr>\n",
       "      <th>AgeCategory_65-69</th>\n",
       "      <td>1.280975</td>\n",
       "    </tr>\n",
       "    <tr>\n",
       "      <th>AgeCategory_70-74</th>\n",
       "      <td>1.611774</td>\n",
       "    </tr>\n",
       "    <tr>\n",
       "      <th>AgeCategory_75-79</th>\n",
       "      <td>1.817541</td>\n",
       "    </tr>\n",
       "    <tr>\n",
       "      <th>AgeCategory_80 or older</th>\n",
       "      <td>2.175214</td>\n",
       "    </tr>\n",
       "    <tr>\n",
       "      <th>Race_American Indian/Alaskan Native</th>\n",
       "      <td>-0.626414</td>\n",
       "    </tr>\n",
       "    <tr>\n",
       "      <th>Race_Asian</th>\n",
       "      <td>-0.751742</td>\n",
       "    </tr>\n",
       "    <tr>\n",
       "      <th>Race_Black</th>\n",
       "      <td>0.063256</td>\n",
       "    </tr>\n",
       "    <tr>\n",
       "      <th>Race_Hispanic</th>\n",
       "      <td>0.301198</td>\n",
       "    </tr>\n",
       "    <tr>\n",
       "      <th>Race_Other</th>\n",
       "      <td>-0.449489</td>\n",
       "    </tr>\n",
       "    <tr>\n",
       "      <th>Race_White</th>\n",
       "      <td>1.028766</td>\n",
       "    </tr>\n",
       "    <tr>\n",
       "      <th>Diabetic_No</th>\n",
       "      <td>0.526668</td>\n",
       "    </tr>\n",
       "    <tr>\n",
       "      <th>Diabetic_No, borderline diabetes</th>\n",
       "      <td>-0.480360</td>\n",
       "    </tr>\n",
       "    <tr>\n",
       "      <th>Diabetic_Yes</th>\n",
       "      <td>1.006430</td>\n",
       "    </tr>\n",
       "    <tr>\n",
       "      <th>Diabetic_Yes (during pregnancy)</th>\n",
       "      <td>-1.487164</td>\n",
       "    </tr>\n",
       "    <tr>\n",
       "      <th>PhysicalActivity_No</th>\n",
       "      <td>-0.257081</td>\n",
       "    </tr>\n",
       "    <tr>\n",
       "      <th>PhysicalActivity_Yes</th>\n",
       "      <td>-0.177345</td>\n",
       "    </tr>\n",
       "    <tr>\n",
       "      <th>GenHealth_Excellent</th>\n",
       "      <td>-1.340992</td>\n",
       "    </tr>\n",
       "    <tr>\n",
       "      <th>GenHealth_Fair</th>\n",
       "      <td>0.631535</td>\n",
       "    </tr>\n",
       "    <tr>\n",
       "      <th>GenHealth_Good</th>\n",
       "      <td>0.002009</td>\n",
       "    </tr>\n",
       "    <tr>\n",
       "      <th>GenHealth_Poor</th>\n",
       "      <td>0.989671</td>\n",
       "    </tr>\n",
       "    <tr>\n",
       "      <th>GenHealth_Very good</th>\n",
       "      <td>-0.716649</td>\n",
       "    </tr>\n",
       "    <tr>\n",
       "      <th>Asthma_No</th>\n",
       "      <td>-0.270864</td>\n",
       "    </tr>\n",
       "    <tr>\n",
       "      <th>Asthma_Yes</th>\n",
       "      <td>-0.163562</td>\n",
       "    </tr>\n",
       "    <tr>\n",
       "      <th>KidneyDisease_No</th>\n",
       "      <td>-0.254663</td>\n",
       "    </tr>\n",
       "    <tr>\n",
       "      <th>KidneyDisease_Yes</th>\n",
       "      <td>-0.179763</td>\n",
       "    </tr>\n",
       "    <tr>\n",
       "      <th>SkinCancer_No</th>\n",
       "      <td>-0.143987</td>\n",
       "    </tr>\n",
       "    <tr>\n",
       "      <th>SkinCancer_Yes</th>\n",
       "      <td>-0.290438</td>\n",
       "    </tr>\n",
       "    <tr>\n",
       "      <th>BMI</th>\n",
       "      <td>0.095871</td>\n",
       "    </tr>\n",
       "    <tr>\n",
       "      <th>PhysicalHealth</th>\n",
       "      <td>-0.014007</td>\n",
       "    </tr>\n",
       "    <tr>\n",
       "      <th>MentalHealth</th>\n",
       "      <td>0.099207</td>\n",
       "    </tr>\n",
       "    <tr>\n",
       "      <th>SleepTime</th>\n",
       "      <td>-0.061893</td>\n",
       "    </tr>\n",
       "  </tbody>\n",
       "</table>\n",
       "</div>"
      ],
      "text/plain": [
       "                                            0\n",
       "Smoking_No                          -0.405334\n",
       "Smoking_Yes                         -0.029092\n",
       "AlcoholDrinking_No                   0.337923\n",
       "AlcoholDrinking_Yes                 -0.772348\n",
       "Stroke_No                           -0.618184\n",
       "Stroke_Yes                           0.183758\n",
       "DiffWalking_No                      -0.303146\n",
       "DiffWalking_Yes                     -0.131280\n",
       "Sex_Female                          -0.600231\n",
       "Sex_Male                             0.165805\n",
       "AgeCategory_18-24                   -2.164516\n",
       "AgeCategory_25-29                   -2.275408\n",
       "AgeCategory_30-34                   -2.016271\n",
       "AgeCategory_35-39                   -1.442420\n",
       "AgeCategory_40-44                   -0.819560\n",
       "AgeCategory_45-49                   -0.464339\n",
       "AgeCategory_50-54                    0.244673\n",
       "AgeCategory_55-59                    0.601562\n",
       "AgeCategory_60-64                    1.016349\n",
       "AgeCategory_65-69                    1.280975\n",
       "AgeCategory_70-74                    1.611774\n",
       "AgeCategory_75-79                    1.817541\n",
       "AgeCategory_80 or older              2.175214\n",
       "Race_American Indian/Alaskan Native -0.626414\n",
       "Race_Asian                          -0.751742\n",
       "Race_Black                           0.063256\n",
       "Race_Hispanic                        0.301198\n",
       "Race_Other                          -0.449489\n",
       "Race_White                           1.028766\n",
       "Diabetic_No                          0.526668\n",
       "Diabetic_No, borderline diabetes    -0.480360\n",
       "Diabetic_Yes                         1.006430\n",
       "Diabetic_Yes (during pregnancy)     -1.487164\n",
       "PhysicalActivity_No                 -0.257081\n",
       "PhysicalActivity_Yes                -0.177345\n",
       "GenHealth_Excellent                 -1.340992\n",
       "GenHealth_Fair                       0.631535\n",
       "GenHealth_Good                       0.002009\n",
       "GenHealth_Poor                       0.989671\n",
       "GenHealth_Very good                 -0.716649\n",
       "Asthma_No                           -0.270864\n",
       "Asthma_Yes                          -0.163562\n",
       "KidneyDisease_No                    -0.254663\n",
       "KidneyDisease_Yes                   -0.179763\n",
       "SkinCancer_No                       -0.143987\n",
       "SkinCancer_Yes                      -0.290438\n",
       "BMI                                  0.095871\n",
       "PhysicalHealth                      -0.014007\n",
       "MentalHealth                         0.099207\n",
       "SleepTime                           -0.061893"
      ]
     },
     "execution_count": 45,
     "metadata": {},
     "output_type": "execute_result"
    }
   ],
   "source": [
    "data1 = log_reg['logisticregression'].coef_\n",
    "cols = all_cats\n",
    "data = pd.DataFrame(data1, columns=cols)\n",
    "data = data.T\n",
    "data"
   ]
  },
  {
   "cell_type": "code",
   "execution_count": 46,
   "metadata": {},
   "outputs": [],
   "source": [
    "data = data.reset_index()"
   ]
  },
  {
   "cell_type": "code",
   "execution_count": 55,
   "metadata": {},
   "outputs": [
    {
     "data": {
      "text/plain": [
       "Text(0.5, 1.0, 'Logistic Regression Coefficients')"
      ]
     },
     "execution_count": 55,
     "metadata": {},
     "output_type": "execute_result"
    },
    {
     "data": {
      "image/png": "[encoded data removed]",
      "text/plain": [
       "<Figure size 1152x864 with 1 Axes>"
      ]
     },
     "metadata": {
      "needs_background": "light"
     },
     "output_type": "display_data"
    }
   ],
   "source": [
    "plt.figure(figsize=(16,12))\n",
    "\n",
    "conds = [(data[0] > 0),\n",
    "        (data[0] < 0)]\n",
    "\n",
    "vals = ['Positive', 'Negative']\n",
    "data['pos_neg'] = np.select(conds, vals)\n",
    "color_dict = {'Positive': '#49416D', 'Negative': '#E08D79'}\n",
    "\n",
    "ax = sns.barplot(x=0,y= 'index', data=data, hue = 'pos_neg', palette= color_dict)\n",
    "plt.ylabel('Categories', size = 16, weight = 'bold')\n",
    "plt.xlabel('Coefficient', size = 16, weight = 'bold')\n",
    "plt.title('Logistic Regression Coefficients', size = 22, weight = 'bold')\n"
   ]
  },
  {
   "cell_type": "code",
   "execution_count": null,
   "metadata": {},
   "outputs": [],
   "source": []
  }
 ],
 "metadata": {
  "kernelspec": {
   "display_name": "Python 3.9.7 ('base_2022_20220718')",
   "language": "python",
   "name": "python3"
  },
  "language_info": {
   "codemirror_mode": {
    "name": "ipython",
    "version": 3
   },
   "file_extension": ".py",
   "mimetype": "text/x-python",
   "name": "python",
   "nbconvert_exporter": "python",
   "pygments_lexer": "ipython3",
   "version": "3.9.7"
  },
  "orig_nbformat": 4,
  "vscode": {
   "interpreter": {
    "hash": "dc2c91e8543fd84fb5a0add8750e8bddf1c0d3ec4c47dffdc29162768b8fb721"
   }
  }
 },
 "nbformat": 4,
 "nbformat_minor": 2
}
